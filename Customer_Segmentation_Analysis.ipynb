{
 "cells": [
  {
   "cell_type": "markdown",
   "id": "dcfe5356",
   "metadata": {},
   "source": [
    "# 👥 Customer Segmentation Analysis\n",
    "---\n",
    "**Objective**: Perform customer segmentation using K-means clustering to identify distinct customer groups based on purchasing behavior.\n",
    "\n",
    "**Goal**: Help businesses tailor marketing strategies to each customer segment."
   ]
  },
  {
   "cell_type": "code",
   "execution_count": null,
   "id": "7d26c41f",
   "metadata": {},
   "outputs": [],
   "source": [
    "import pandas as pd\n",
    "import numpy as np\n",
    "import matplotlib.pyplot as plt\n",
    "import seaborn as sns\n",
    "from sklearn.cluster import KMeans\n",
    "from sklearn.preprocessing import StandardScaler\n",
    "from sklearn.decomposition import PCA\n",
    "\n",
    "# Display settings\n",
    "pd.set_option('display.max_columns', None)\n",
    "sns.set(style='whitegrid')"
   ]
  },
  {
   "cell_type": "markdown",
   "id": "d98c36eb",
   "metadata": {},
   "source": [
    "## 📥 Load the Dataset"
   ]
  },
  {
   "cell_type": "code",
   "execution_count": null,
   "id": "d03bf918",
   "metadata": {},
   "outputs": [],
   "source": [
    "# Replace 'customers.csv' with your dataset filename\n",
    "df = pd.read_csv('customers.csv')\n",
    "\n",
    "df.head()"
   ]
  },
  {
   "cell_type": "markdown",
   "id": "a777cfc2",
   "metadata": {},
   "source": [
    "## 🔍 Data Exploration"
   ]
  },
  {
   "cell_type": "code",
   "execution_count": null,
   "id": "0ebc4165",
   "metadata": {},
   "outputs": [],
   "source": [
    "df.info()\n",
    "df.describe()\n",
    "df.isnull().sum()"
   ]
  },
  {
   "cell_type": "markdown",
   "id": "597b9a5a",
   "metadata": {},
   "source": [
    "## 🧼 Data Cleaning"
   ]
  },
  {
   "cell_type": "code",
   "execution_count": null,
   "id": "0d72257c",
   "metadata": {},
   "outputs": [],
   "source": [
    "# Drop missing values (or use df.fillna())\n",
    "df.dropna(inplace=True)"
   ]
  },
  {
   "cell_type": "markdown",
   "id": "bdc52b9a",
   "metadata": {},
   "source": [
    "## 📊 Feature Selection"
   ]
  },
  {
   "cell_type": "code",
   "execution_count": null,
   "id": "cfb930d2",
   "metadata": {},
   "outputs": [],
   "source": [
    "# Example features - modify based on your dataset\n",
    "features = df[['Annual Income (k$)', 'Spending Score (1-100)']]\n",
    "\n",
    "# Standardize features\n",
    "scaler = StandardScaler()\n",
    "scaled_features = scaler.fit_transform(features)"
   ]
  },
  {
   "cell_type": "markdown",
   "id": "1df1b382",
   "metadata": {},
   "source": [
    "## 🤖 Customer Segmentation using K-Means"
   ]
  },
  {
   "cell_type": "code",
   "execution_count": null,
   "id": "8985a91b",
   "metadata": {},
   "outputs": [],
   "source": [
    "# Determine the optimal number of clusters using the Elbow Method\n",
    "wcss = []\n",
    "for i in range(1, 11):\n",
    "    kmeans = KMeans(n_clusters=i, init='k-means++', random_state=42)\n",
    "    kmeans.fit(scaled_features)\n",
    "    wcss.append(kmeans.inertia_)\n",
    "\n",
    "# Plot Elbow graph\n",
    "plt.plot(range(1, 11), wcss)\n",
    "plt.xlabel('Number of Clusters')\n",
    "plt.ylabel('WCSS')\n",
    "plt.title('Elbow Method for Optimal k')\n",
    "plt.show()"
   ]
  },
  {
   "cell_type": "code",
   "execution_count": null,
   "id": "c96d2fb4",
   "metadata": {},
   "outputs": [],
   "source": [
    "# Fit KMeans with optimal number of clusters (example: 5)\n",
    "kmeans = KMeans(n_clusters=5, random_state=42)\n",
    "df['Cluster'] = kmeans.fit_predict(scaled_features)\n",
    "df.head()"
   ]
  },
  {
   "cell_type": "markdown",
   "id": "d8912eab",
   "metadata": {},
   "source": [
    "## 📈 Cluster Visualization"
   ]
  },
  {
   "cell_type": "code",
   "execution_count": null,
   "id": "7ef5f6ce",
   "metadata": {},
   "outputs": [],
   "source": [
    "# PCA for 2D visualization\n",
    "pca = PCA(n_components=2)\n",
    "pca_data = pca.fit_transform(scaled_features)\n",
    "\n",
    "plt.figure(figsize=(8, 6))\n",
    "plt.scatter(pca_data[:, 0], pca_data[:, 1], c=df['Cluster'], cmap='Set1')\n",
    "plt.xlabel('PCA 1')\n",
    "plt.ylabel('PCA 2')\n",
    "plt.title('Customer Segments Visualization')\n",
    "plt.colorbar()\n",
    "plt.show()"
   ]
  },
  {
   "cell_type": "markdown",
   "id": "804159fb",
   "metadata": {},
   "source": [
    "## 🧠 Insights and Recommendations"
   ]
  },
  {
   "cell_type": "code",
   "execution_count": null,
   "id": "e6d3f8ac",
   "metadata": {},
   "outputs": [],
   "source": [
    "# Analyze each cluster\n",
    "df.groupby('Cluster').mean()"
   ]
  },
  {
   "cell_type": "markdown",
   "id": "367aa029",
   "metadata": {},
   "source": [
    "---\n",
    "**Next Steps:**\n",
    "- Use full dataset with more features\n",
    "- Apply DBSCAN or hierarchical clustering\n",
    "- Visualize segments using demographics, location, or behavior\n",
    "\n",
    "**End of Project: Customer Segmentation with K-Means**"
   ]
  }
 ],
 "metadata": {},
 "nbformat": 4,
 "nbformat_minor": 5
}
